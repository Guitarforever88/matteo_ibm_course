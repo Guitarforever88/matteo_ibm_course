{
 "cells": [
  {
   "cell_type": "markdown",
   "id": "8bd4a628-1e5c-4f23-9b0b-ea381923bc26",
   "metadata": {},
   "source": [
    "# Data Science Tools and Ecosystem"
   ]
  },
  {
   "cell_type": "markdown",
   "id": "abb60d57-5448-4f26-ad2b-c381982c0f46",
   "metadata": {},
   "source": [
    "In this notebook, Data Science Tools and Ecosystem are summarized"
   ]
  },
  {
   "cell_type": "markdown",
   "id": "7d0d9160-e096-41b1-af82-6db204e17b87",
   "metadata": {
    "tags": []
   },
   "source": [
    "Objectives:"
   ]
  },
  {
   "cell_type": "markdown",
   "id": "439df062-c9e8-4114-a278-434c4066421c",
   "metadata": {
    "tags": []
   },
   "source": [
    "* python\n",
    "* SQL\n",
    "* julia\n",
    "* scala\n",
    "* R"
   ]
  },
  {
   "cell_type": "code",
   "execution_count": null,
   "id": "b22ad147-abfe-4212-89dc-26df9c84afdc",
   "metadata": {},
   "outputs": [],
   "source": [
    "Some of the popular languages that Data Scientists use are:"
   ]
  },
  {
   "cell_type": "markdown",
   "id": "cd096612-4be3-4a31-8d81-c6f93556f129",
   "metadata": {},
   "source": [
    "1. python\n",
    "2. R\n",
    "3. SQL"
   ]
  },
  {
   "cell_type": "markdown",
   "id": "211efce5-f3a0-475f-9f0f-17bffe6f8cc7",
   "metadata": {},
   "source": [
    "Some of the commonly used libraries used by Data Scientists include:\n"
   ]
  },
  {
   "cell_type": "markdown",
   "id": "857484d3-5b21-4f2a-9fcd-cad1833b03db",
   "metadata": {},
   "source": [
    "1. numpy\n",
    "2. pandas\n",
    "3. matplotlib"
   ]
  },
  {
   "cell_type": "markdown",
   "id": "622a1523-bffe-4a13-b97e-d8ac04a909e1",
   "metadata": {},
   "source": [
    "|Data science tool|\n",
    "|-----------------|\n",
    "|jupiter notebooks|\n",
    "|python|\n",
    "|SQL|"
   ]
  },
  {
   "cell_type": "markdown",
   "id": "b250f865-fe7d-4c11-b328-0c7589bdcef4",
   "metadata": {},
   "source": [
    "### Below are a few examples of evaluating arithmetic expressions in Python"
   ]
  },
  {
   "cell_type": "code",
   "execution_count": 1,
   "id": "5676f69b-73c9-45e8-8251-231cae937e3c",
   "metadata": {
    "tags": []
   },
   "outputs": [
    {
     "data": {
      "text/plain": [
       "17"
      ]
     },
     "execution_count": 1,
     "metadata": {},
     "output_type": "execute_result"
    }
   ],
   "source": [
    "# This a simple arithmetic expression to multiply then add integers\n",
    "(3*4)+5"
   ]
  },
  {
   "cell_type": "code",
   "execution_count": 2,
   "id": "44b212ad-901d-47d4-8b51-a919e300a5b7",
   "metadata": {
    "tags": []
   },
   "outputs": [
    {
     "name": "stdout",
     "output_type": "stream",
     "text": [
      "200 minutes correspond to 3.3333333333333335 hours\n"
     ]
    }
   ],
   "source": [
    "# This will convert 200 minutes to hours by diving by 60\n",
    "minutes=200\n",
    "# convert minutes to hours\n",
    "hours=minutes/60\n",
    "print(\"200 minutes correspond to\", hours, \"hours\")"
   ]
  },
  {
   "cell_type": "markdown",
   "id": "d5ab64de-10a9-4064-bcd8-b4f0ed7d11af",
   "metadata": {},
   "source": [
    "## Author\n",
    "Matteo Filipponi"
   ]
  },
  {
   "cell_type": "code",
   "execution_count": null,
   "id": "42835bb9-f665-476e-a0a1-6b260550d189",
   "metadata": {},
   "outputs": [],
   "source": []
  }
 ],
 "metadata": {
  "kernelspec": {
   "display_name": "Python 3 (ipykernel)",
   "language": "python",
   "name": "python3"
  },
  "language_info": {
   "codemirror_mode": {
    "name": "ipython",
    "version": 3
   },
   "file_extension": ".py",
   "mimetype": "text/x-python",
   "name": "python",
   "nbconvert_exporter": "python",
   "pygments_lexer": "ipython3",
   "version": "3.11.5"
  }
 },
 "nbformat": 4,
 "nbformat_minor": 5
}
